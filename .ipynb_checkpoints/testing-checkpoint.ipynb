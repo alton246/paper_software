{
 "cells": [
  {
   "cell_type": "code",
   "execution_count": 1,
   "metadata": {},
   "outputs": [
    {
     "data": {
      "text/html": [
       "<div>\n",
       "<style scoped>\n",
       "    .dataframe tbody tr th:only-of-type {\n",
       "        vertical-align: middle;\n",
       "    }\n",
       "\n",
       "    .dataframe tbody tr th {\n",
       "        vertical-align: top;\n",
       "    }\n",
       "\n",
       "    .dataframe thead th {\n",
       "        text-align: right;\n",
       "    }\n",
       "</style>\n",
       "<table border=\"1\" class=\"dataframe\">\n",
       "  <thead>\n",
       "    <tr style=\"text-align: right;\">\n",
       "      <th></th>\n",
       "      <th>Month</th>\n",
       "      <th>CO</th>\n",
       "      <th>NO2</th>\n",
       "    </tr>\n",
       "  </thead>\n",
       "  <tbody>\n",
       "    <tr>\n",
       "      <th>0</th>\n",
       "      <td>JAN</td>\n",
       "      <td>4.081580e+14</td>\n",
       "      <td>2.791760e+15</td>\n",
       "    </tr>\n",
       "    <tr>\n",
       "      <th>1</th>\n",
       "      <td>FEB</td>\n",
       "      <td>4.086460e+14</td>\n",
       "      <td>2.985180e+15</td>\n",
       "    </tr>\n",
       "    <tr>\n",
       "      <th>2</th>\n",
       "      <td>MAR</td>\n",
       "      <td>4.091370e+14</td>\n",
       "      <td>3.329900e+15</td>\n",
       "    </tr>\n",
       "    <tr>\n",
       "      <th>3</th>\n",
       "      <td>APR</td>\n",
       "      <td>4.098510e+14</td>\n",
       "      <td>3.487810e+15</td>\n",
       "    </tr>\n",
       "    <tr>\n",
       "      <th>4</th>\n",
       "      <td>MAY</td>\n",
       "      <td>4.105840e+14</td>\n",
       "      <td>3.725680e+15</td>\n",
       "    </tr>\n",
       "    <tr>\n",
       "      <th>5</th>\n",
       "      <td>JUN</td>\n",
       "      <td>4.107980e+14</td>\n",
       "      <td>3.801470e+15</td>\n",
       "    </tr>\n",
       "    <tr>\n",
       "      <th>6</th>\n",
       "      <td>JUL</td>\n",
       "      <td>4.113530e+14</td>\n",
       "      <td>3.560860e+15</td>\n",
       "    </tr>\n",
       "    <tr>\n",
       "      <th>7</th>\n",
       "      <td>AUG</td>\n",
       "      <td>4.110590e+14</td>\n",
       "      <td>3.245770e+15</td>\n",
       "    </tr>\n",
       "    <tr>\n",
       "      <th>8</th>\n",
       "      <td>SEP</td>\n",
       "      <td>4.104660e+14</td>\n",
       "      <td>3.108760e+15</td>\n",
       "    </tr>\n",
       "    <tr>\n",
       "      <th>9</th>\n",
       "      <td>OCT</td>\n",
       "      <td>4.095890e+14</td>\n",
       "      <td>3.000350e+15</td>\n",
       "    </tr>\n",
       "    <tr>\n",
       "      <th>10</th>\n",
       "      <td>NOV</td>\n",
       "      <td>4.088410e+14</td>\n",
       "      <td>2.696870e+15</td>\n",
       "    </tr>\n",
       "    <tr>\n",
       "      <th>11</th>\n",
       "      <td>DEC</td>\n",
       "      <td>4.094320e+14</td>\n",
       "      <td>2.613020e+15</td>\n",
       "    </tr>\n",
       "  </tbody>\n",
       "</table>\n",
       "</div>"
      ],
      "text/plain": [
       "   Month            CO           NO2\n",
       "0    JAN  4.081580e+14  2.791760e+15\n",
       "1    FEB  4.086460e+14  2.985180e+15\n",
       "2    MAR  4.091370e+14  3.329900e+15\n",
       "3    APR  4.098510e+14  3.487810e+15\n",
       "4    MAY  4.105840e+14  3.725680e+15\n",
       "5    JUN  4.107980e+14  3.801470e+15\n",
       "6    JUL  4.113530e+14  3.560860e+15\n",
       "7    AUG  4.110590e+14  3.245770e+15\n",
       "8    SEP  4.104660e+14  3.108760e+15\n",
       "9    OCT  4.095890e+14  3.000350e+15\n",
       "10   NOV  4.088410e+14  2.696870e+15\n",
       "11   DEC  4.094320e+14  2.613020e+15"
      ]
     },
     "execution_count": 1,
     "metadata": {},
     "output_type": "execute_result"
    }
   ],
   "source": [
    "import pandas as pd\n",
    "import matplotlib.pyplot as plt\n",
    "file = 'C:/Users/gentemann/Downloads/mean co no2 2019.csv'\n",
    "data = pd.read_csv(file)\n",
    "data"
   ]
  },
  {
   "cell_type": "code",
   "execution_count": 13,
   "metadata": {},
   "outputs": [
    {
     "data": {
      "text/plain": [
       "Text(JUL, 3600000000000000.0, 'NO2')"
      ]
     },
     "execution_count": 13,
     "metadata": {},
     "output_type": "execute_result"
    },
    {
     "data": {
      "image/png": "[encoded data removed]",
      "text/plain": [
       "<Figure size 432x288 with 2 Axes>"
      ]
     },
     "metadata": {
      "needs_background": "light"
     },
     "output_type": "display_data"
    }
   ],
   "source": [
    "fig, ax1 = plt.subplots()\n",
    "ax1.plot(data.Month,data.NO2,'b',label='NO2')\n",
    "ax2 = ax1.twinx()\n",
    "ax2.plot(data.Month,data.CO,'r',label='CO')\n",
    "ax1.set_ylabel('NO2 (units)',color='b')\n",
    "ax2.set_ylabel('CO (units)',color='r')\n",
    "ax1.set_xlabel('Month')\n",
    "ax2.yaxis.label.set_color('r')\n",
    "ax2.tick_params(axis='y', colors='r')\n",
    "ax1.yaxis.label.set_color('b')\n",
    "ax1.tick_params(axis='y', colors='b')\n",
    "ax1.text('SEP',3.5e15,'CO',color='r',size=12)\n",
    "ax1.text('JUL',3.6e15,'NO2',color='b',size=12)"
   ]
  },
  {
   "cell_type": "code",
   "execution_count": null,
   "metadata": {},
   "outputs": [],
   "source": [
    "\n"
   ]
  }
 ],
 "metadata": {
  "kernelspec": {
   "display_name": "Python 3",
   "language": "python",
   "name": "python3"
  },
  "language_info": {
   "codemirror_mode": {
    "name": "ipython",
    "version": 3
   },
   "file_extension": ".py",
   "mimetype": "text/x-python",
   "name": "python",
   "nbconvert_exporter": "python",
   "pygments_lexer": "ipython3",
   "version": "3.7.6"
  }
 },
 "nbformat": 4,
 "nbformat_minor": 1
}
