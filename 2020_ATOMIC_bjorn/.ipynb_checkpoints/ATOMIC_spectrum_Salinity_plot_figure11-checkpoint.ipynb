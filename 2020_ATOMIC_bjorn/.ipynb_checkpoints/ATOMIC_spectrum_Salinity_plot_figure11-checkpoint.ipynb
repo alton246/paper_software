{
 "cells": [
  {
   "cell_type": "code",
   "execution_count": 44,
   "metadata": {
    "scrolled": true
   },
   "outputs": [],
   "source": [
    "import xarray as xr\n",
    "import numpy as np\n",
    "import pandas as pd\n",
    "import matplotlib.pyplot as plt\n",
    "import seawater as sw\n",
    "from scipy import interpolate\n",
    "from scipy import signal\n",
    "from glob import glob\n",
    "import scipy.ndimage\n",
    "import matplotlib.colors as colors\n",
    "from sklearn.linear_model import LinearRegression\n",
    "import spectrum\n",
    "\n",
    "#data directory for saildrone data\n",
    "#more on the data here: https://podaac.jpl.nasa.gov/dataset/SAILDRONE_ATOMIC\n",
    "# DOI = 10.5067/SDRON-ATOM0\n",
    "data_dir = './data/'\n",
    "saildrone_filenames = [x for x in glob(data_dir+'saildrone*.nc')]\n",
    "\n",
    "#output\n",
    "figs_dir = './figures/'\n",
    "\n",
    "#subroutines for calculating PSD & making plot\n",
    "def spectrum(data_in):\n",
    "    #calculate PSD for each USV\n",
    "    data_all=[]\n",
    "    for iusv in range(3):\n",
    "        ds_usv = data_in.isel(trajectory=iusv)\n",
    "        ds2 = ds_usv.assign_coords(dist_total = ds_usv.dist_total)\n",
    "        ds3 = ds2.swap_dims({'time':'dist_total'})\n",
    "        dist_interp = np.arange(ds2.dist_total[0],ds2.dist_total[-1],0.08)\n",
    "        ds4 = ds3.interp(dist_total=dist_interp)\n",
    "        den = ds4.density_mean.interpolate_na(dim='dist_total')\n",
    "        den = den.where(np.isfinite(den),drop=True)\n",
    "        ds4_detrend = signal.detrend(den)\n",
    "        ds4_detrend_smooth = scipy.ndimage.filters.gaussian_filter1d(ds4_detrend, sigma=25)\n",
    "        freq, Pxx_den = signal.periodogram(ds4_detrend_smooth,1/.080)  #fs = sampled at .08km or 80m\n",
    "        freq2, Pxx_den2 = signal.welch(ds4_detrend_smooth,1/.080,nperseg=1024*30)  #fs = sampled at .08km or 80m\n",
    "        if iusv==0:\n",
    "            ps_all=Pxx_den[0:10000]\n",
    "            ps_all_welch=Pxx_den2[0:10000]\n",
    "        else:\n",
    "            ps_all = np.vstack([ps_all,Pxx_den[0:10000]])\n",
    "            ps_all_welch = np.vstack([ps_all_welch,Pxx_den2[0:10000]])    \n",
    "    Pxx_den = np.mean(ps_all,axis=0)\n",
    "    Pxx_den_welch = np.mean(ps_all_welch,axis=0)\n",
    "    return freq,freq2,Pxx_den,Pxx_den_welch\n",
    "\n",
    "def cal_pdf(data_in): \n",
    "    #make arrays for sampling at different length scales\n",
    "    length_scale = np.arange(.1,200,1)\n",
    "    # create the empty data arrays to store the normalized histograms (normalized the *100 for percentage count)\n",
    "    xx_in = np.arange(0,.2,.001)\n",
    "    xx_in2 = np.arange(0,.2-.001,.001)\n",
    "    data = np.zeros((len(length_scale),len(xx_in2)))\n",
    "    ddn=xr.DataArray(data,dims=('length_scale','gradx'),coords={'length_scale':length_scale,'gradx':xx_in2})\n",
    "    for iusv in range(3):\n",
    "        ds_usv = data_in.isel(trajectory=iusv)\n",
    "        ds2 = ds_usv.assign_coords(dist_total = ds_usv.dist_total)  #add dist traveled coordinate\n",
    "        ds3 = ds2.swap_dims({'time':'dist_total'})                  #swap from time to distance traveled\n",
    "        for ilen2,len2 in enumerate(length_scale):\n",
    "            dist_interp = np.arange(ds2.dist_total[0],ds2.dist_total[-1],len2)\n",
    "            ds4 = ds3.interp(dist_total=dist_interp)       \n",
    "            den_grad =  np.abs(np.gradient(ds4.density_mean)/len2)\n",
    "            result,xx = np.histogram(den_grad,bins=xx_in)\n",
    "            ddn[ilen2,:]=ddn[ilen2,:]+result\n",
    "    for ilen2,len2 in enumerate(length_scale):\n",
    "        ddn[ilen2,:]=ddn[ilen2,:]/sum(ddn[ilen2,:])*100  #normalize & turn into percent\n",
    "\n",
    "    return ddn\n",
    "\n",
    "\n",
    "def psd_fig(f,data_in,Pxx_den,text1,fout,ifit):\n",
    "   \n",
    "    length_scale = np.arange(.1,200,1)\n",
    "    xx_in = np.arange(0,.2,.001)\n",
    "    xx_in2 = np.arange(0,.2-.001,.001)\n",
    "    print(len(length_scale),len(xx_in))\n",
    "    fig = plt.figure(figsize=(14,10))\n",
    "    tem=data_in\n",
    "    tem = tem.where(tem>.003)\n",
    "    Z=tem.T\n",
    "    ax = plt.pcolormesh(length_scale,xx_in2,Z, norm=colors.LogNorm(vmin=Z.min(), vmax=Z.max()),vmin=.01,vmax=100,cmap='hot')\n",
    "    plt.text(10,0.179,'(a)'+text1,fontsize=16,color='k')\n",
    "    plt.xlabel('Length scale (km)',fontsize=16)\n",
    "    plt.ylabel('Density gradient (kg m$^{-3}$ km$^{-1}$)',fontsize=16)\n",
    "    cb = plt.colorbar()\n",
    "    cb.set_label(label='Percent count',fontsize=16)\n",
    "\n",
    "    plt.axes([.33, .47, .4, .4])\n",
    "\n",
    "    #cal PSD\n",
    "    #Pxx_den = np.mean(psd_in,axis=0)\n",
    "    #f, Pxx_den = signal.periodogram(Pxx_den,1/.080)  #fs = sampled at .08km or 80m\n",
    "    istart,iend=10,5550\n",
    "    plt.loglog(f[istart:iend], Pxx_den[istart:iend])\n",
    "\n",
    "    #linear regression to PSD\n",
    "    istart,iend=8,ifit\n",
    "    XX = np.log(f[istart:iend])\n",
    "    YY = np.log(Pxx_den[istart:iend])\n",
    "    reg = LinearRegression().fit(XX.reshape(-1, 1), YY)\n",
    "    a = float(reg.coef_)\n",
    "    b = -1*float(reg.intercept_)\n",
    "    plt.loglog(f[istart:iend], f[istart:iend]**(a)/np.exp(b),'r') #test from fit\n",
    "    slp_str = 'slope = '+\"{:.1f}\".format(a)\n",
    "    plt.text(.02,10,slp_str,fontsize=16,color='r')\n",
    "    plt.ylim([10e-6,10e1])\n",
    "    plt.xlim([10e-4,10e-1])\n",
    "    plt.xticks(ticks=[.001,.01,.1,1],labels=['1000','100','10','1'])\n",
    "\n",
    "    plt.text(.0011,10,'(b)',fontsize=16,color='k')\n",
    "    #plt.xlabel('Wavenumber (cpkm)')\n",
    "    plt.xlabel('Wavelength (km)')\n",
    "    plt.ylabel('PSD ((kg m$^{-3}$)$^2$ cpkm$^{-1}$]')\n",
    "    plt.grid()\n",
    "    plt.savefig(figs_dir+fout)\n",
    "    return\n",
    "\n",
    "# Shane Elipot suggested slepian multitaper\n",
    "def spec_time(data,var):\n",
    "    import spectrum\n",
    "    #calculate the periodogram spectrum spec_p\n",
    "    #calculate the slepian multitaper spectrum spec_m\n",
    "    ps_all,ps_all2=[],[]\n",
    "    for iusv in range(3):\n",
    "        ds_usv = data.isel(trajectory=iusv)\n",
    "        den = ds_usv[var].interpolate_na(dim='time')\n",
    "        den = den.where(np.isfinite(den),drop=True)\n",
    "        ds4_detrend_smooth = signal.detrend(den)\n",
    "        freq, Pxx_den = signal.periodogram(ds4_detrend_smooth,1/1)  #fs = 1 min sampled at 80m\n",
    "        ps_all.append(Pxx_den[0:10000])\n",
    "        Sk_complex, weights, eigenvalues = spectrum.pmtm(ds4_detrend_smooth, NW=3.5, k=4, show=False)\n",
    "        Sk = np.mean((abs(Sk_complex)**2) * weights.T, axis=0)\n",
    "        ps_all2.append(Sk[0:10000])\n",
    "    spec_p = np.mean(np.vstack(ps_all),axis=0)\n",
    "    spec_m = np.mean(np.vstack(ps_all2),axis=0)\n",
    "    return spec_p,spec_m,freq\n",
    "\n",
    "def spec_dist(data,var):\n",
    "    import spectrum\n",
    "    #calculate the periodogram spectrum spec_p\n",
    "    #calculate the slepian multitaper spectrum spec_m\n",
    "    ps_all,ps_all2=[],[]\n",
    "    for iusv in range(3):\n",
    "        ds_usv = data.isel(trajectory=iusv)\n",
    "        ds2 = ds_usv.assign_coords(dist_total = ds_usv.dist_total)\n",
    "        ds3 = ds2.swap_dims({'time':'dist_total'})\n",
    "        dist_interp = np.arange(ds2.dist_total[0],ds2.dist_total[-1],1) #0.08)\n",
    "        ds4 = ds3.interp(dist_total=dist_interp)\n",
    "        den = ds4[var].interpolate_na(dim='dist_total')\n",
    "        den = den.where(np.isfinite(den),drop=True)\n",
    "        ds4_detrend = signal.detrend(den)\n",
    "        freq, Pxx_den = signal.periodogram(ds4_detrend,1) #/0.08)  #fs = 1 min sampled at 80m\n",
    "        ps_all.append(Pxx_den[0:10000])\n",
    "        Sk_complex, weights, eigenvalues = spectrum.pmtm(ds4_detrend, NW=3.5, k=4, show=False)\n",
    "        Sk = np.mean((abs(Sk_complex)**2) * weights.T, axis=0)\n",
    "        ps_all2.append(Sk[0:10000])\n",
    "    spec_p = np.mean(np.vstack(ps_all),axis=0)\n",
    "    spec_m = np.mean(np.vstack(ps_all2),axis=0)\n",
    "    return spec_p,spec_m,freq\n",
    "\n",
    "\n"
   ]
  },
  {
   "cell_type": "markdown",
   "metadata": {},
   "source": [
    "# Read in USV data for all 3 Saildrone\n",
    "- caluclate density and wind speed\n",
    "- caluclate distance between successive obs\n",
    "- caluculate total cumulative distance\n",
    "- switch from time to cumulative distance as index\n",
    "- interpolate data onto grid\n"
   ]
  },
  {
   "cell_type": "code",
   "execution_count": 15,
   "metadata": {
    "scrolled": true
   },
   "outputs": [],
   "source": [
    "ds=[]\n",
    "for iusv in range(3):\n",
    "    fname=saildrone_filenames[iusv]\n",
    "    ds_usv=xr.open_dataset(fname).isel(trajectory=0).swap_dims({'obs':'time'})\n",
    "    ds_usv.close()\n",
    "\n",
    "#    #make diruanl plot\n",
    "    xlon=ds_usv.longitude.ffill(dim='time').data\n",
    "    time_offset_to_lmt=(xlon/360.)*24.*60\n",
    "    tem = ds_usv.time+time_offset_to_lmt*np.timedelta64(1,'m') \n",
    "    ds_usv['tlmt']=tem\n",
    "\n",
    "    ds_usv2= ds_usv.swap_dims({'time':'tlmt'})\n",
    "    ds_usv2a = ds_usv2.where(ds_usv2.tlmt.dt.hour==6)\n",
    "    dymn = ds_usv2a.groupby(\"tlmt.dayofyear\").mean()\n",
    "    ds_usv3 = ds_usv2.groupby(\"tlmt.dayofyear\") - dymn\n",
    "   \n",
    "    ds_usv['TEMP_AIR_MEAN_DW'] = ds_usv3.swap_dims({'tlmt':'time'}).drop({'tlmt'}).TEMP_AIR_MEAN\n",
    "    ds_usv['TEMP_SBE37_MEAN_DW'] = ds_usv3.swap_dims({'tlmt':'time'}).drop({'tlmt'}).TEMP_SBE37_MEAN\n",
    "    ds_usv['wspd']=np.sqrt(ds_usv.UWND_MEAN**2+ds_usv.VWND_MEAN**2)   \n",
    "    tem=sw.dens0(ds_usv.SAL_SBE37_MEAN,ds_usv.TEMP_SBE37_MEAN)\n",
    "    ds_usv['density_mean']=xr.DataArray(tem,dims=('time'),coords={'time':ds_usv.time})\n",
    "    tem=sw.alpha(ds_usv.SAL_SBE37_MEAN,ds_usv.TEMP_SBE37_MEAN,ds_usv.BARO_PRES_MEAN*0) #pressure =0 at surface\n",
    "    ds_usv['alpha_ME']=xr.DataArray(tem,dims=('time'),coords={'time':ds_usv.time})\n",
    "    tem=sw.beta(ds_usv.SAL_SBE37_MEAN,ds_usv.TEMP_SBE37_MEAN,ds_usv.BARO_PRES_MEAN*0) #pressure =0 at surface\n",
    "    ds_usv['beta_MEAN']=xr.DataArray(tem,dims=('time'),coords={'time':ds_usv.time})\n",
    "    ds_usv['latitude']=ds_usv.latitude.interpolate_na(dim='time')\n",
    "    ds_usv['longitude']=ds_usv.longitude.interpolate_na(dim='time')\n",
    "    xlat=ds_usv.latitude\n",
    "    xlon=ds_usv.longitude\n",
    "    dkm2 = abs(np.abs((((xlon[1:].data-xlon[0:-1].data)**2+(xlat[1:].data-xlat[0:-1].data)**2)**.5)*110.567*np.cos(np.pi*xlat[1:].data/180)))\n",
    "    dkm2=np.append(dkm2,dkm2[66238]) #add on last point\n",
    "    dkm3 = dkm2.cumsum()\n",
    "    ds_usv['dist_total']=xr.DataArray(dkm3,dims=('time'),coords={'time':ds_usv.time})\n",
    "    ds_usv['dist_between']=xr.DataArray(dkm2,dims=('time'),coords={'time':ds_usv.time})\n",
    "    if iusv==0:\n",
    "        ds = ds_usv\n",
    "    else:\n",
    "        ds = xr.concat([ds,ds_usv],dim='trajectory')\n",
    "ds_saildrone = ds.copy(deep=True)\n"
   ]
  },
  {
   "cell_type": "code",
   "execution_count": 75,
   "metadata": {},
   "outputs": [
    {
     "data": {
      "text/plain": [
       "array(5552.02967864)"
      ]
     },
     "execution_count": 75,
     "metadata": {},
     "output_type": "execute_result"
    }
   ],
   "source": [
    "data.dist_total.max(dim='time').min().data"
   ]
  },
  {
   "cell_type": "code",
   "execution_count": 274,
   "metadata": {},
   "outputs": [
    {
     "name": "stdout",
     "output_type": "stream",
     "text": [
      "34701 34701\n",
      "34700 34700\n",
      "34700 34700\n"
     ]
    },
    {
     "data": {
      "text/plain": [
       "(Text(0.5, 0, 'Wavelength (km)'),\n",
       " Text(0, 0.5, 'PSD ((kg m$^{-3}$)$^2$ cpkm$^{-1}$]'))"
      ]
     },
     "execution_count": 274,
     "metadata": {},
     "output_type": "execute_result"
    },
    {
     "data": {
      "image/png": "[encoded data removed]",
      "text/plain": [
       "<Figure size 432x288 with 1 Axes>"
      ]
     },
     "metadata": {
      "needs_background": "light"
     },
     "output_type": "display_data"
    }
   ],
   "source": [
    "    import spectrum\n",
    "    var = 'density_mean'\n",
    "    #sp,sm,freq = spec_dist(ds_saildrone,var)\n",
    "    data = ds_saildrone\n",
    "    ps_all,ps_all2=[],[]\n",
    "    mindist = data.dist_total.max(dim='time').min().data       \n",
    "    for iusv in range(3):\n",
    "        dt = 0.08\n",
    "        ds_usv = data.isel(trajectory=iusv)\n",
    "        ds2 = ds_usv.assign_coords(dist_total = ds_usv.dist_total)\n",
    "        ds3 = ds2.swap_dims({'time':'dist_total'})\n",
    "        ds3 = ds3.sel(dist_total=slice(0,mindist))        \n",
    "        dist_interp = np.arange(ds2.dist_total[0],mindist,dt)\n",
    "        ds4 = ds3.interp(dist_total=dist_interp)\n",
    "        den = ds4[var].interpolate_na(dim='dist_total')\n",
    "        den = den.where(np.isfinite(den),drop=True)\n",
    "        ds4_detrend = signal.detrend(den)\n",
    "        freq, Pxx_den = signal.periodogram(ds4_detrend,1/dt)  #fs = sampled at 80m        \n",
    "        print(len(freq),len(Pxx_den))\n",
    "        ps_all.append(Pxx_den[0:30000])\n",
    "        Sk_complex, weights, eigenvalues = spectrum.pmtm(ds4_detrend, NW=2.5, k=4, show=False)\n",
    "        #Sk = np.mean((abs(Sk_complex)**2) * weights.T, axis=0)\n",
    "        Sk = abs(Sk_complex)**2\n",
    "        Sk = np.mean(Sk * np.transpose(weights), axis=0) * 0.08        #https://stackoverflow.com/questions/62836233/multi-taper-spectral-analysis-with-spectrum-in-python\n",
    "        ps_all2.append(Sk[0:30000])\n",
    "    sp,sm = np.mean(np.vstack(ps_all),axis=0),np.mean(np.vstack(ps_all2),axis=0)\n",
    "    \n",
    "    dmin,dmax=np.floor(1000000*min(sp[1:1000]))/10000/9,np.ceil(max(sp[1:1000])/1000)*1000*2\n",
    "    plt.loglog(freq[0:10000], sp[0:10000],'b')\n",
    "    plt.loglog(freq[0:10000], sm[0:10000],'k',lw=2)\n",
    "    plt.ylim([dmin/8,dmax/2])\n",
    "    plt.xlim([10e-5,.2])\n",
    "    ifit,istart=500,10\n",
    "    iend=ifit\n",
    "    XX,YY = np.log(freq[istart:iend]),np.log(sp[istart:iend])\n",
    "    reg = LinearRegression().fit(XX.reshape(-1, 1), YY)\n",
    "    a,b = float(reg.coef_),-1*float(reg.intercept_)\n",
    "    plt.loglog(freq[istart:iend], freq[istart:iend]**(a)/np.exp(b),'r') #test from fit\n",
    "    slp_str = 'slope = '+\"{:.1f}\".format(a)\n",
    "    plt.text(freq[istart+1],freq[istart]**(a)/np.exp(b)+300,slp_str,fontsize=16,color='r')          \n",
    "    plt.xlabel('Wavelength (km)'),plt.ylabel('PSD ((kg m$^{-3}$)$^2$ cpkm$^{-1}$]')"
   ]
  },
  {
   "cell_type": "code",
   "execution_count": 275,
   "metadata": {},
   "outputs": [
    {
     "data": {
      "text/plain": [
       "69399"
      ]
     },
     "execution_count": 275,
     "metadata": {},
     "output_type": "execute_result"
    }
   ],
   "source": [
    "len(sp)\n",
    "len(den)"
   ]
  },
  {
   "cell_type": "code",
   "execution_count": 279,
   "metadata": {},
   "outputs": [
    {
     "data": {
      "text/plain": [
       "(0.0001, 1)"
      ]
     },
     "execution_count": 279,
     "metadata": {},
     "output_type": "execute_result"
    },
    {
     "data": {
      "image/png": "[encoded data removed]",
      "text/plain": [
       "<Figure size 432x288 with 1 Axes>"
      ]
     },
     "metadata": {
      "needs_background": "light"
     },
     "output_type": "display_data"
    }
   ],
   "source": [
    "    N=len(den)\n",
    "    xf = np.linspace(0.0, 1.0/(2.0*dt), N//2)\n",
    "    plt.loglog(xf[0:10000], sp[0:10000],'b')\n",
    "    NFFT,dx=10000,0.08\n",
    "    freq2 = np.arange(10000)/ NFFT * [1/dx]\n",
    "    plt.loglog(xf[0:10000], sm[0:10000],'k',lw=2)\n",
    "    plt.ylim([dmin/5000,dmax/2])\n",
    "    plt.xlim([10e-5,1])\n"
   ]
  },
  {
   "cell_type": "code",
   "execution_count": 272,
   "metadata": {},
   "outputs": [
    {
     "data": {
      "text/plain": [
       "(1e-11, 1000.0)"
      ]
     },
     "execution_count": 272,
     "metadata": {},
     "output_type": "execute_result"
    },
    {
     "data": {
      "image/png": "[encoded data removed]",
      "text/plain": [
       "<Figure size 432x288 with 1 Axes>"
      ]
     },
     "metadata": {
      "needs_background": "light"
     },
     "output_type": "display_data"
    }
   ],
   "source": [
    "dist_interp = np.arange(ds2.dist_total[0],mindist,1)\n",
    "ds4 = ds3.interp(dist_total=dist_interp)\n",
    "den = ds4[var].interpolate_na(dim='dist_total')\n",
    "den = den.where(np.isfinite(den),drop=True)\n",
    "ds4_detrend = signal.detrend(den)\n",
    "freq22, Pxx_den22 = signal.periodogram(ds4_detrend,1)  #fs = sampled at 80m\n",
    "dist_interp = np.arange(ds2.dist_total[0],mindist,0.08)\n",
    "ds4 = ds3.interp(dist_total=dist_interp)\n",
    "den = ds4[var].interpolate_na(dim='dist_total')\n",
    "den = den.where(np.isfinite(den),drop=True)\n",
    "ds4_detrend = signal.detrend(den)\n",
    "freq, Pxx_den = signal.periodogram(ds4_detrend,1/0.08)  #fs = sampled at 80m\n",
    "plt.loglog(freq, Pxx_den)\n",
    "plt.loglog(freq22, Pxx_den22)\n",
    "plt.ylim([10e-12,10e2])\n"
   ]
  },
  {
   "cell_type": "code",
   "execution_count": 132,
   "metadata": {},
   "outputs": [
    {
     "ename": "NameError",
     "evalue": "name 'freq2' is not defined",
     "output_type": "error",
     "traceback": [
      "\u001b[1;31m---------------------------------------------------------------------------\u001b[0m",
      "\u001b[1;31mNameError\u001b[0m                                 Traceback (most recent call last)",
      "\u001b[1;32m<ipython-input-132-a569a0af7e78>\u001b[0m in \u001b[0;36m<module>\u001b[1;34m\u001b[0m\n\u001b[0;32m      1\u001b[0m \u001b[0mplt\u001b[0m\u001b[1;33m.\u001b[0m\u001b[0mloglog\u001b[0m\u001b[1;33m(\u001b[0m\u001b[0mfreq\u001b[0m\u001b[1;33m[\u001b[0m\u001b[1;36m0\u001b[0m\u001b[1;33m:\u001b[0m\u001b[1;36m1000\u001b[0m\u001b[1;33m]\u001b[0m\u001b[1;33m,\u001b[0m \u001b[0msp\u001b[0m\u001b[1;33m[\u001b[0m\u001b[1;36m0\u001b[0m\u001b[1;33m:\u001b[0m\u001b[1;36m1000\u001b[0m\u001b[1;33m]\u001b[0m\u001b[1;33m,\u001b[0m\u001b[1;34m'b'\u001b[0m\u001b[1;33m)\u001b[0m\u001b[1;33m\u001b[0m\u001b[1;33m\u001b[0m\u001b[0m\n\u001b[1;32m----> 2\u001b[1;33m \u001b[0mplt\u001b[0m\u001b[1;33m.\u001b[0m\u001b[0mloglog\u001b[0m\u001b[1;33m(\u001b[0m\u001b[0mfreq2\u001b[0m\u001b[1;33m[\u001b[0m\u001b[1;36m0\u001b[0m\u001b[1;33m:\u001b[0m\u001b[1;36m1000\u001b[0m\u001b[1;33m]\u001b[0m\u001b[1;33m,\u001b[0m \u001b[0msm\u001b[0m\u001b[1;33m[\u001b[0m\u001b[1;36m0\u001b[0m\u001b[1;33m:\u001b[0m\u001b[1;36m1000\u001b[0m\u001b[1;33m]\u001b[0m\u001b[1;33m,\u001b[0m\u001b[1;34m'k'\u001b[0m\u001b[1;33m,\u001b[0m\u001b[0mlw\u001b[0m\u001b[1;33m=\u001b[0m\u001b[1;36m2\u001b[0m\u001b[1;33m)\u001b[0m\u001b[1;33m\u001b[0m\u001b[1;33m\u001b[0m\u001b[0m\n\u001b[0m\u001b[0;32m      3\u001b[0m \u001b[0mplt\u001b[0m\u001b[1;33m.\u001b[0m\u001b[0mylim\u001b[0m\u001b[1;33m(\u001b[0m\u001b[1;33m[\u001b[0m\u001b[0mdmin\u001b[0m\u001b[1;33m/\u001b[0m\u001b[1;36m8\u001b[0m\u001b[1;33m,\u001b[0m\u001b[0mdmax\u001b[0m\u001b[1;33m/\u001b[0m\u001b[1;36m2\u001b[0m\u001b[1;33m]\u001b[0m\u001b[1;33m)\u001b[0m\u001b[1;33m\u001b[0m\u001b[1;33m\u001b[0m\u001b[0m\n\u001b[0;32m      4\u001b[0m \u001b[0mplt\u001b[0m\u001b[1;33m.\u001b[0m\u001b[0mxlim\u001b[0m\u001b[1;33m(\u001b[0m\u001b[1;33m[\u001b[0m\u001b[1;36m10e-5\u001b[0m\u001b[1;33m,\u001b[0m\u001b[1;36m.2\u001b[0m\u001b[1;33m]\u001b[0m\u001b[1;33m)\u001b[0m\u001b[1;33m\u001b[0m\u001b[1;33m\u001b[0m\u001b[0m\n",
      "\u001b[1;31mNameError\u001b[0m: name 'freq2' is not defined"
     ]
    },
    {
     "data": {
      "image/png": "[encoded data removed]",
      "text/plain": [
       "<Figure size 432x288 with 1 Axes>"
      ]
     },
     "metadata": {
      "needs_background": "light"
     },
     "output_type": "display_data"
    }
   ],
   "source": [
    "    plt.loglog(freq[0:1000], sp[0:1000],'b')\n",
    "    plt.loglog(freq2[0:1000], sm[0:1000],'k',lw=2)\n",
    "    plt.ylim([dmin/8,dmax/2])\n",
    "    plt.xlim([10e-5,.2])\n"
   ]
  },
  {
   "cell_type": "code",
   "execution_count": null,
   "metadata": {},
   "outputs": [],
   "source": [
    "\n",
    "freq_usv,freq2_usv,Pxx_den_usv,Pxx_den_welch_usv = spectrum(ds)\n",
    "\n",
    "ddn_usv = cal_pdf(ds)\n"
   ]
  },
  {
   "cell_type": "code",
   "execution_count": null,
   "metadata": {
    "scrolled": true
   },
   "outputs": [],
   "source": [
    "psd_fig(freq_usv,ddn_usv,Pxx_den_usv,'Saildrone','PSD_den_grad_usv.png',300)\n",
    "psd_fig(freq_usv,ddn_usv,Pxx_den_usv,'Saildrone','PSD_den_grad_usv.pdf',300)\n"
   ]
  },
  {
   "cell_type": "code",
   "execution_count": null,
   "metadata": {},
   "outputs": [],
   "source": []
  },
  {
   "cell_type": "code",
   "execution_count": null,
   "metadata": {},
   "outputs": [],
   "source": []
  }
 ],
 "metadata": {
  "kernelspec": {
   "display_name": "Python 3",
   "language": "python",
   "name": "python3"
  },
  "language_info": {
   "codemirror_mode": {
    "name": "ipython",
    "version": 3
   },
   "file_extension": ".py",
   "mimetype": "text/x-python",
   "name": "python",
   "nbconvert_exporter": "python",
   "pygments_lexer": "ipython3",
   "version": "3.8.5"
  }
 },
 "nbformat": 4,
 "nbformat_minor": 4
}
