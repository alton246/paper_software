{
 "cells": [
  {
   "cell_type": "markdown",
   "metadata": {},
   "source": [
    "## Compile anomalies and NPC position into one file for analysis\n",
    "#### created by sol, nov 26 019\n",
    "### New data from chelle - nov 23, 2019 - v6"
   ]
  },
  {
   "cell_type": "code",
   "execution_count": null,
   "metadata": {},
   "outputs": [],
   "source": [
    "import numpy as np\n",
    "import pandas as pd\n",
    "import matplotlib.pyplot as plt\n",
    "import xarray as xr"
   ]
  },
  {
   "cell_type": "code",
   "execution_count": null,
   "metadata": {},
   "outputs": [],
   "source": [
    "# npc position\n",
    "ds = xr.open_dataset('../../biforcation_figures_chelle/biforcation_data165_monthly_aviso2.nc')\n",
    "ds2=ds.lat.sel(time=slice('1993-01-01','2018-12-31'))\n",
    "\n",
    "# anomalies\n",
    "clim=ds2.groupby('time.month').mean('time')\n",
    "ds3=ds2.groupby('time.month')-clim\n",
    "npc165 = ds3.values\n",
    "\n",
    "ds = xr.open_dataset('../../biforcation_figures_chelle/biforcation_data135_monthly_aviso2.nc')\n",
    "ds2=ds.lat.sel(time=slice('1993-01-01','2018-12-31'))\n",
    "fecha=ds2.time.values\n",
    "# anomalies\n",
    "clim=ds2.groupby('time.month').mean('time')\n",
    "ds3=ds2.groupby('time.month')-clim\n",
    "npc135 = ds3.values"
   ]
  },
  {
   "cell_type": "code",
   "execution_count": null,
   "metadata": {},
   "outputs": [],
   "source": [
    "plt.plot(fecha,npc165,label='165')\n",
    "plt.plot(fecha,npc135,label='135')\n",
    "plt.legend()\n",
    "plt.title('NPC Position')\n",
    "plt.show()"
   ]
  },
  {
   "cell_type": "code",
   "execution_count": null,
   "metadata": {},
   "outputs": [],
   "source": [
    "boxl=['NPC','Bif','Cal2','Ak1','Ak2','NPCv','Bifv', 'Cal1','Cal3']\n",
    "# currents\n",
    "ds = xr.open_dataset('../../timeseries_data/oscar1993-01-01data_minus_clim_v6.nc')\n",
    "# select V Cal1, V Ak1 for this analysis\n",
    "ds2=ds.sel(time=slice('1993-01-01','2018-12-31'))\n",
    "vcak = ds2.v[3,:].values \n",
    "vcac = ds2.v[7,:].values\n",
    "plt.plot(fecha,vcak,label='CAK')\n",
    "plt.plot(fecha,vcac,label='CAC')\n",
    "plt.legend()\n",
    "plt.title('Oscar V currents')\n",
    "plt.show()\n",
    "# SST\n",
    "ds = xr.open_dataset('../../timeseries_data/sst1993-01-01data_minus_clim_v6.nc')\n",
    "# select V Cal1, V Ak1 for this analysis\n",
    "ds2=ds.sel(time=slice('1993-01-01','2018-12-31'))\n",
    "tcak = ds2.analysed_sst[3,:].values\n",
    "tcac = ds2.analysed_sst[7,:].values\n",
    "plt.plot(fecha,tcak, label='CAK')\n",
    "plt.plot(fecha,tcac, label='CAC')\n",
    "\n",
    "\n",
    "t165 = ds2.analysed_sst[5,:].values\n",
    "t135 = ds2.analysed_sst[6,:].values\n",
    "plt.plot(fecha,t165, label='165W')\n",
    "plt.plot(fecha,t135, label='135W')\n",
    "plt.title('SST')\n",
    "\n",
    "plt.legend()\n",
    "plt.show()"
   ]
  },
  {
   "cell_type": "code",
   "execution_count": null,
   "metadata": {},
   "outputs": [],
   "source": [
    "ds"
   ]
  },
  {
   "cell_type": "code",
   "execution_count": null,
   "metadata": {},
   "outputs": [],
   "source": [
    "var = ['NPC165', 'NPC135','V_CAC','VCAK']\n",
    "adt1 = xr.DataArray(npc165, dims=['time'], coords=[fecha])\n",
    "adt2 = xr.DataArray(npc135, dims=['time'], coords=[fecha])\n",
    "adt3 = xr.DataArray(vcac, dims=['time'], coords=[fecha])\n",
    "adt4 = xr.DataArray(vcak, dims=['time'], coords=[fecha])\n",
    "adt5 = xr.DataArray(tcac, dims=['time'], coords=[fecha])\n",
    "adt6 = xr.DataArray(tcak, dims=['time'], coords=[fecha])\n",
    "adt7 = xr.DataArray(t165, dims=['time'], coords=[fecha])\n",
    "adt8 = xr.DataArray(t135, dims=['time'], coords=[fecha])\n",
    "ads = xr.Dataset({'NPC165': adt1, 'NPC135':adt2, 'V_CAC': adt3, 'V_CAK':adt4, 'SST_CAC': adt5, 'SST_CAK':adt6, 'SST_NPC': adt7, 'SST_Bif':adt8})\n",
    "ads.to_netcdf('../data/bifdatams_long_26nov2019.nc',mode='w')"
   ]
  },
  {
   "cell_type": "code",
   "execution_count": null,
   "metadata": {},
   "outputs": [],
   "source": [
    "ads"
   ]
  },
  {
   "cell_type": "code",
   "execution_count": null,
   "metadata": {},
   "outputs": [],
   "source": [
    "# seasonal anomalies\n",
    "adseas = ads.resample(time='3M',label='left',closed='left',loffset='1M').mean()\n",
    "adseas = adseas.sel(time=slice('1993-01-01','2018-12-31'))\n",
    "adseas.to_netcdf('../data/bifdatams_seas_long_26nov2019.nc',mode='w')"
   ]
  },
  {
   "cell_type": "code",
   "execution_count": null,
   "metadata": {},
   "outputs": [],
   "source": [
    "dfseas = adseas.to_dataframe()\n",
    "dfseas = dfseas.rename(columns={'NPC165':'NPC@165W','NPC135':'NPC@135W','V_CAC':'CalCv','V_CAK':'AkCv','SST_NPC':'SST@165W','SST_Bif':'SST@135W'})\n",
    "dfseas = dfseas.drop(['SST_CAC','SST_CAK'],axis=1)\n",
    "dfseas.to_csv('../data/MS_data_feb2020.csv')"
   ]
  },
  {
   "cell_type": "code",
   "execution_count": null,
   "metadata": {
    "scrolled": true
   },
   "outputs": [],
   "source": [
    "plt.figure(figsize=(16,4))\n",
    "adseas.SST_NPC.plot()\n",
    "ads.SST_NPC.plot()\n",
    "plt.grid()"
   ]
  },
  {
   "cell_type": "code",
   "execution_count": null,
   "metadata": {},
   "outputs": [],
   "source": [
    "plt.figure(figsize=(16,4))\n",
    "adseas.SST_Bif.plot()\n",
    "ads.SST_Bif.plot()\n",
    "plt.grid()"
   ]
  },
  {
   "cell_type": "code",
   "execution_count": null,
   "metadata": {},
   "outputs": [],
   "source": [
    "ds = xr.open_dataset('../../timeseries_data/sst1993-01-01data_minus_clim_v6.nc')\n",
    "ds"
   ]
  },
  {
   "cell_type": "code",
   "execution_count": null,
   "metadata": {},
   "outputs": [],
   "source": [
    "312/3"
   ]
  },
  {
   "cell_type": "code",
   "execution_count": null,
   "metadata": {},
   "outputs": [],
   "source": []
  }
 ],
 "metadata": {
  "kernelspec": {
   "display_name": "Python 3",
   "language": "python",
   "name": "python3"
  },
  "language_info": {
   "codemirror_mode": {
    "name": "ipython",
    "version": 3
   },
   "file_extension": ".py",
   "mimetype": "text/x-python",
   "name": "python",
   "nbconvert_exporter": "python",
   "pygments_lexer": "ipython3",
   "version": "3.7.1"
  }
 },
 "nbformat": 4,
 "nbformat_minor": 2
}
