{
 "cells": [
  {
   "cell_type": "markdown",
   "metadata": {},
   "source": [
    "# Error analysis\n",
    "\n",
    "\n",
    "## First import libraries"
   ]
  },
  {
   "cell_type": "code",
   "execution_count": 1,
   "metadata": {
    "scrolled": true
   },
   "outputs": [],
   "source": [
    "import numpy as np\n",
    "%matplotlib inline\n",
    "import numpy as np\n",
    "import sys\n",
    "sys.path.append('./cerform/')\n",
    "from coare3 import coare3\n",
    "from air_specific_humidity import air_humidity_method_qsat26air\n",
    "from surface_specific_humidity import sea_humidity_method_qsee"
   ]
  },
  {
   "cell_type": "markdown",
   "metadata": {},
   "source": [
    "# estimate errors for current sensor or fluxsat? chose one"
   ]
  },
  {
   "cell_type": "code",
   "execution_count": 2,
   "metadata": {},
   "outputs": [],
   "source": [
    "#pick one and comment out the other with #\n",
    "ob_err = 'fluxsat'\n",
    "#ob_err = 'current'\n"
   ]
  },
  {
   "cell_type": "markdown",
   "metadata": {},
   "source": [
    "# define variables"
   ]
  },
  {
   "cell_type": "code",
   "execution_count": 22,
   "metadata": {},
   "outputs": [
    {
     "name": "stdout",
     "output_type": "stream",
     "text": [
      "Qair 7.467295302531722\n",
      "Qsea 11.126587150389046\n"
     ]
    }
   ],
   "source": [
    "#variable\tvalue\tunits\tnotes\n",
    "Cp = 1004.67         #J/K/kg specific heat at constant pressure\n",
    "Rgas = 287.1\n",
    "\n",
    "wind = 15.00000          #m/s    average wind speed over ocean\n",
    "Tsea = 289.25         #K      average SST over ocean\n",
    "Tair = Tsea-3        #K      average surface air temperature over ocean\n",
    "Tsea_degC = Tsea - 273.15\n",
    "Tair_degC = Tair - 273.15\n",
    "rel_hum = 0.80000       #N/A    near surface relative humidity\n",
    "pres = 1013.00000       #mb     average surface pressure used in Bentamy\n",
    "\n",
    "#calculate Qsea and Qair from Tsea, pres, Tair, rel_hum from coare\n",
    "Lv = (2.501-0.00237*Tsea)*1e6 #J/kg   latent heat of vaporization  SB had 2500000 CG changed to coare3 def\n",
    "sat_vap_pres =  6.1121*np.exp(17.502*Tair_degC/(Tair_degC+240.97))*(1.0007+3.46e-6*pres) #from coare3\n",
    "Qsea = sea_humidity_method_qsee(Tsea_degC,pres)/1000\n",
    "Qair = air_humidity_method_qsat26air(Tair_degC,pres,rel_hum*100)/1000\n",
    "air_density = pres*100./(Rgas*(Tair)*(1.+0.61*Qair))\n",
    "\n",
    "#cH_over_cE = 0.00120    #N/A    aerodynamic transfer coef\n",
    "#Qsea=18.0/1000\n",
    "#Qair=15.0/1000\n",
    "#Qsea=18.0 #/1000 = .0018\n",
    "#Qair=15.0       = .0015\n",
    "#rh=80.0\n",
    "print('Qair',Qair*1000)\n",
    "print('Qsea',Qsea*1000)\n"
   ]
  },
  {
   "cell_type": "markdown",
   "metadata": {},
   "source": [
    "#  Observational error for either FluxSat or Current variables\n",
    "- errors from FluxSat via Shannon's simulations\n",
    "- errors from current variables from publications cited in paper\n"
   ]
  },
  {
   "cell_type": "code",
   "execution_count": 23,
   "metadata": {},
   "outputs": [
    {
     "name": "stdout",
     "output_type": "stream",
     "text": [
      "Qair error: 0.5227106711772206\n"
     ]
    }
   ],
   "source": [
    "if ob_err == 'fluxsat':\n",
    "    dTsea = 0.65 #45\n",
    "    dwind = 0.6\n",
    "    dTair = 0.7\n",
    "    dQair = .6\n",
    "    dQair_computed = Qair * 0.07 #percent from shannon\n",
    "    dpres = 5\n",
    "if ob_err == 'current':\n",
    "    dTsea = 0.5 #ref found\n",
    "    dwind = 0.8 #ref found\n",
    "    dTair = 1.42\n",
    "    dQair = 1.25\n",
    "    dQair_computed = 1.25/1000.\n",
    "    dpres = 5\n",
    "\n",
    "dpres_computed = (pres+dpres)*100 / (287*Tair) - air_density\n",
    "print('Qair error:', dQair_computed*1000)"
   ]
  },
  {
   "cell_type": "code",
   "execution_count": 24,
   "metadata": {},
   "outputs": [
    {
     "name": "stdout",
     "output_type": "stream",
     "text": [
      "Qsea and Qsea uncertainty: 11.126587150389046 0.4765896900489459\n"
     ]
    }
   ],
   "source": [
    "#compute Qsea errors from coare3 using uncertainty in SST & pres\n",
    "Qsea0 = sea_humidity_method_qsee(Tsea_degC,pres)\n",
    "Qsea1 = sea_humidity_method_qsee(Tsea_degC+dTsea,pres)\n",
    "Qsea2 = sea_humidity_method_qsee(Tsea_degC-dTsea,pres)\n",
    "Qsea_dTsea = (np.maximum(np.abs(Qsea0-Qsea2),np.abs(Qsea0-Qsea1)))\n",
    "Qsea0 = sea_humidity_method_qsee(Tsea_degC,pres)\n",
    "Qsea1 = sea_humidity_method_qsee(Tsea_degC,pres+dpres)\n",
    "Qsea2 = sea_humidity_method_qsee(Tsea_degC,pres-dpres)\n",
    "Qsea_dpres = (np.maximum(np.abs(Qsea0-Qsea2),np.abs(Qsea0-Qsea1)))\n",
    "dQsea_computed = np.sqrt(Qsea_dTsea**2+Qsea_dpres**2)/1000\n",
    "print('Qsea and Qsea uncertainty:',Qsea*1000,dQsea_computed*1000)"
   ]
  },
  {
   "cell_type": "markdown",
   "metadata": {},
   "source": [
    "# Error propagation for each variable (Shannon Brown)"
   ]
  },
  {
   "cell_type": "code",
   "execution_count": 25,
   "metadata": {},
   "outputs": [
    {
     "name": "stdout",
     "output_type": "stream",
     "text": [
      "[0.0012057963794128259] [0.0012057963794128257]\n",
      "[64.95217820484679] [200.77362178140808]\n"
     ]
    }
   ],
   "source": [
    "# calculate Ch and Ce using coare\n",
    "inputs = {'u':wind,'t':Tair_degC,'Q':Qair*1000,'Qs':Qsea*1000,'P':pres,'ts':Tsea_degC,'lat':35.}\n",
    "res = coare3(inputs)\n",
    "Ch = res['Ch']\n",
    "Ce = res['Ce']\n",
    "print(Ch,Ce)\n",
    "print(res['hsb'],res['hlb'])\n"
   ]
  },
  {
   "cell_type": "markdown",
   "metadata": {},
   "source": [
    "# Compute Latent Heat Flux errors"
   ]
  },
  {
   "cell_type": "code",
   "execution_count": 26,
   "metadata": {},
   "outputs": [
    {
     "name": "stdout",
     "output_type": "stream",
     "text": [
      "dLH_over_dqs [19.2024996]\n",
      "dLH_over_dqair [21.06078177]\n",
      "dLH_over_dwind [5.89753003]\n",
      "dLH_over_dpres [1.4544951639777584]\n",
      "Latent Heat Flux total_error [29.14084652687554]\n",
      "signal [147.4382508]\n",
      "percent error [19.764780420533185]\n"
     ]
    }
   ],
   "source": [
    "dLH_over_dqs =   air_density * Ce * wind * Lv               * dQsea_computed\n",
    "dLH_over_dqair = air_density * Ce * wind * Lv               * dQair_computed\n",
    "dLH_over_dwind = air_density * Ce *        Lv * (Qsea-Qair) * dwind\n",
    "dLH_over_dpres =               Ce * wind * Lv * (Qsea-Qair) * dpres_computed\n",
    "\n",
    "total_error = np.sqrt(dLH_over_dqs**2+\n",
    "                      dLH_over_dqair**2+\n",
    "                      dLH_over_dwind**2+\n",
    "                      dLH_over_dpres**2)\n",
    "\n",
    "signal = air_density * Lv * Ce * (Qsea-Qair) * wind\n",
    "\n",
    "percent_error = total_error / signal *100\n",
    "\n",
    "print('dLH_over_dqs',dLH_over_dqs)\n",
    "print('dLH_over_dqair',dLH_over_dqair)\n",
    "print('dLH_over_dwind',dLH_over_dwind)\n",
    "print('dLH_over_dpres',dLH_over_dpres)\n",
    "print('Latent Heat Flux total_error',total_error)\n",
    "print('signal',signal)\n",
    "print('percent error',percent_error)\n",
    "\n",
    "latent_heat_flux_total_error = total_error"
   ]
  },
  {
   "cell_type": "markdown",
   "metadata": {},
   "source": [
    "# Compute Sensible Heat Flux errors"
   ]
  },
  {
   "cell_type": "code",
   "execution_count": 27,
   "metadata": {},
   "outputs": [
    {
     "name": "stdout",
     "output_type": "stream",
     "text": [
      "dSH_over_dTsea [14.49302501]\n",
      "dSH_over_dTair [15.60787309]\n",
      "dSH_over_dwind [2.67563539]\n",
      "dSH_over_dpres [0.6598862080386788]\n",
      "Sensible Heat Flux total_error [21.476683884366025]\n"
     ]
    }
   ],
   "source": [
    "dSH_over_dTsea = air_density * Cp * Ch * wind               * dTsea\n",
    "dSH_over_dTair = air_density * Cp * Ch * wind               * dTair\n",
    "dSH_over_dwind = air_density * Cp * Ch        * (Tsea-Tair) * dwind\n",
    "dSH_over_dpres =               Cp * Ch * wind * (Tsea-Tair) * dpres_computed\n",
    "\n",
    "total_error = np.sqrt(dSH_over_dTsea**2+\n",
    "                      dSH_over_dTair**2+\n",
    "                      dSH_over_dwind**2+\n",
    "                      dSH_over_dpres**2)\n",
    "\n",
    "signal = air_density * Cp * Ch * (Tsea-Tair) * wind\n",
    "\n",
    "percent_error = total_error / signal *100\n",
    "\n",
    "print('dSH_over_dTsea',dSH_over_dTsea)\n",
    "print('dSH_over_dTair',dSH_over_dTair)\n",
    "print('dSH_over_dwind',dSH_over_dwind)\n",
    "print('dSH_over_dpres',dSH_over_dpres)\n",
    "print('Sensible Heat Flux total_error',total_error)\n",
    "#print('signal',signal)\n",
    "#print('percent error',percent_error)\n",
    "\n",
    "sensible_heat_flux_total_error = total_error"
   ]
  },
  {
   "cell_type": "code",
   "execution_count": null,
   "metadata": {},
   "outputs": [],
   "source": []
  }
 ],
 "metadata": {
  "kernelspec": {
   "display_name": "Python 3",
   "language": "python",
   "name": "python3"
  },
  "language_info": {
   "codemirror_mode": {
    "name": "ipython",
    "version": 3
   },
   "file_extension": ".py",
   "mimetype": "text/x-python",
   "name": "python",
   "nbconvert_exporter": "python",
   "pygments_lexer": "ipython3",
   "version": "3.7.9"
  }
 },
 "nbformat": 4,
 "nbformat_minor": 2
}
